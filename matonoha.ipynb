{
 "cells": [
  {
   "cell_type": "markdown",
   "id": "700472a0",
   "metadata": {},
   "source": [
    "# Looking at particles detected at ALICE with Jupyter Notebooks\n",
    "\n",
    "*© 2023, Oliver Matonoha, oliver.matonoha{at}hep.lu.se* <br>\n",
    "*This project was created as a final project submission in the course Reproducible and Interactive Data Science taught at Lund University.*\n",
    "\n",
    "__Abstract__: The aim of this Jupyter Notebook is to introduce high-school level students to particle physics data and their analysis. We illustrate basic concepts of High Energy Physics (HEP) and Machine Learning (ML). Specifically, an Artificial Neural Network (ANN) is built and trained. ANNs, computational models inspired by human brains, have been receiving enormous attention in the last years. Along with their popular usage in e.g. image recognition or text prediction, they are also used extensively in physics analyses. In this work, we demonstrate a very simple example of an ANN usage to solve a basic classification problem -- identifying the pion and kaon particles. We utilise Python toolkits Pandas, NumPy, and Seaborn, which greatly facilitate presenting data and its analysis in a transparent and reproducible way. Open dataset from collisions of protons detected with the ALICE experiment at the Large Hadron Collider (LHC) in CERN is used.\n",
    "\n",
    "## Contents\n",
    "- [Introduction to HEP data](#intro)\n",
    "- [Python setup](#python)\n",
    "- [Preparing the dataset](#dataset)\n",
    "- [Measured properties of detected particles](#properties)\n",
    "- [Detector coverage](#coverage)\n",
    "- [Event display](#display)\n",
    "- [Transverse momentum distributions](#pt)\n",
    "- [Looking closer at the dataset](#closer)\n",
    "- [Artificial Neural Networks](#anns)\n",
    "- [Preparing the ANN](#preparingann)\n",
    "- [Training the ANN](#trainingann)\n",
    "- [Looking at the network's predictions](#predictions)\n",
    "- [Decision boundaries](#dboundaries)\n",
    "- [Conclusions](#conclusions)\n",
    "- [References](#references)"
   ]
  },
  {
   "cell_type": "markdown",
   "id": "eda2d359",
   "metadata": {},
   "source": [
    "## Introduction to HEP data <a name=\"intro\"></a>\n",
    "\n",
    "The Large Hadron Collider (LHC) is the world's largest and most powerful particle accelerator. It is located at the European Organization for Nuclear Research (CERN) in Geneva, Switzerland. The LHC was designed and built to explore the fundamental structure of the universe by colliding beams of particles at high energy levels.\n",
    "\n",
    "The main goal of the LHC is to search for new particles and understand the basic building blocks of matter. For example, the discovery of the Higgs boson particle, which is responsible for giving other particles mass, was made using the LHC. The LHC also helps to advance our understanding of the universe by exploring the principles of symmetry and the nature of dark matter.\n",
    "\n",
    "In addition to advancing our understanding of the universe, the LHC and its research have a range of practical applications, particularly in the fields of medicine and computing.\n",
    "\n",
    "<img src=\"pictures/cern.jpg\" alt=\"CERN LHC\" width=\"800px\" title=\"Large Hadron Collider at CERN. Image credit: CERN\" />\n",
    "<center>Large Hadron Collider at CERN. Image credit: CERN</center>\n",
    "\n",
    "The ALICE (A Large Ion Collider Experiment) is one of the four major detectors at the LHC. It was designed to study the behavior of matter at extremely high temperatures and densities, conditions that are thought to have existed in the universe just after the Big Bang. ALICE's biggest strength is its capability to tell apart the many species of particles known as hadrons and leptons at low momentum.\n",
    "\n",
    "Apart from protons, the ALICE experiment also uses heavy ions, such as lead, to collide with each other at high energy levels in the LHC. The collisions produce extremely high temperatures and densities, which allow the experiment to study the behavior of matter under extreme conditions. The main focus of the ALICE experiment is to study the properties of quark-gluon plasma (QGP), a state of matter that is thought to form the Universe in the first few microseconds after the Big Bang.\n",
    "\n",
    "<img src=\"pictures/alice.jpg\" alt=\"ALICE\" width=\"400px\" title=\"The ALICE detector. Image credit: CERN\" />\n",
    "<center>The ALICE detector. Image credit: CERN</center>\n",
    "\n",
    "Data at ALICE is collected using a variety of detectors positioned around the collider. When beams of particles collide in the accelerator, they produce new particles that are detected by the detectors. The detectors measure trajectories and momenta of the particles, which is then used to reconstruct the events that took place during the collision. The data collected by the detectors is very large, on the order of petabytes, and is stored and analyzed by servers and computers across the globe. The LHC operates almost 24/7, producing a constant stream of data to be looked at by scientists to search for interesting phenomena.\n",
    "\n",
    "In this work, we will look at an excerpt of a sample dataset from the ALICE open data. We will look at a simulated dataset. This simulation uses a physics generator to produce particles with realistic properties and a model of the detector apparatus to emulate the propagation of particles through the materials as well as their reconstruction. They represent the actual data very accurately but also contain the normally a priori unknown information -- the particle species. Thus it can be used to calculate reconstruction efficiencies of different particles or -- in our case -- train a neural network. Our dataset contains the two most abundantly produced particle species: pions ($\\mathrm{\\pi}$) and kaons ($\\mathrm{K}$)."
   ]
  },
  {
   "cell_type": "markdown",
   "id": "a67d6440",
   "metadata": {},
   "source": [
    "## Python setup <a name=\"python\"></a>\n",
    "\n",
    "We have to setup the environment and load all required libraries. Among others, we use:\n",
    "- pandas, for easy manipulation and display of our data,\n",
    "- seaborn, for visualising our data and its distributions,\n",
    "- tensorflow, keras, and sklearn, to construct the neural network and measure its statistics,\n",
    "- ipywidgets, to make inspecting the data interactive."
   ]
  },
  {
   "cell_type": "code",
   "execution_count": 2,
   "id": "aac0a371",
   "metadata": {},
   "outputs": [],
   "source": [
    "# Loading required packages\n",
    "import matplotlib as mpl\n",
    "import matplotlib.pyplot as plt\n",
    "from matplotlib.lines import Line2D\n",
    "import pandas as pd\n",
    "import numpy as np\n",
    "import seaborn as sns\n",
    "from ipywidgets import interact, interactive, fixed, interact_manual\n",
    "import ipywidgets as widgets\n",
    "import itertools\n",
    "\n",
    "# NN-related libraries\n",
    "import tensorflow as tf\n",
    "import tensorflow.keras as keras\n",
    "#import tensorflow_datasets as tfds\n",
    "from tensorflow.keras import layers\n",
    "from tensorflow.keras import backend as K\n",
    "from tensorflow.keras import metrics, regularizers, optimizers\n",
    "from tensorflow.keras.layers import Dense, Input, Dropout\n",
    "from tensorflow.keras.models import Model\n",
    "#from tensorflow.keras.layers import IntegerLookup\n",
    "from tensorflow.keras.layers import Normalization\n",
    "#from tensorflow.keras.layers import StringLookup\n",
    "#from sklearn.model_selection import train_test_split, KFold\n",
    "from sklearn.metrics import confusion_matrix#, log_loss, classification_report"
   ]
  },
  {
   "cell_type": "markdown",
   "id": "fdb7db00",
   "metadata": {},
   "source": [
    "## Preparing the dataset <a name=\"dataset\"></a>\n",
    "We look at the dataset sample using shell:"
   ]
  },
  {
   "cell_type": "code",
   "execution_count": 3,
   "id": "d0666a1d",
   "metadata": {},
   "outputs": [
    {
     "name": "stdout",
     "output_type": "stream",
     "text": [
      "     Row     Instance   PDGcode     Pt          Eta         Phi         NClusters   NSigmaTPC   NSigmaTOF  \n",
      "        23          1         211   2.4138348   0.0267115   0.1672210         156   -0.517077   2.0222983  \n",
      "        38          5         211   2.2532384   0.0701844   3.7379696         153   -0.384867   5.0170455  \n",
      "        43          4        -321   2.3813841   -0.482631   5.9451336         154   -1.920060   2.9812238  \n",
      "        52          2         211   2.4679009   0.7307713   2.7598619         157   0.0593901   -0.109793  \n"
     ]
    }
   ],
   "source": [
    "%%bash\n",
    "head -5 alicedata_piK.txt"
   ]
  },
  {
   "cell_type": "markdown",
   "id": "c4ec24f7",
   "metadata": {},
   "source": [
    "We load the data into a panda dataframe and relabel columns:"
   ]
  },
  {
   "cell_type": "code",
   "execution_count": 4,
   "id": "37114e60",
   "metadata": {
    "scrolled": true
   },
   "outputs": [
    {
     "data": {
      "text/html": [
       "<div>\n",
       "<style scoped>\n",
       "    .dataframe tbody tr th:only-of-type {\n",
       "        vertical-align: middle;\n",
       "    }\n",
       "\n",
       "    .dataframe tbody tr th {\n",
       "        vertical-align: top;\n",
       "    }\n",
       "\n",
       "    .dataframe thead th {\n",
       "        text-align: right;\n",
       "    }\n",
       "</style>\n",
       "<table border=\"1\" class=\"dataframe\">\n",
       "  <thead>\n",
       "    <tr style=\"text-align: right;\">\n",
       "      <th></th>\n",
       "      <th>event</th>\n",
       "      <th>label</th>\n",
       "      <th>particle</th>\n",
       "      <th>pt</th>\n",
       "      <th>eta</th>\n",
       "      <th>phi</th>\n",
       "      <th>nclusters</th>\n",
       "      <th>nsigmaTPC</th>\n",
       "      <th>nsigmaTOF</th>\n",
       "    </tr>\n",
       "  </thead>\n",
       "  <tbody>\n",
       "    <tr>\n",
       "      <th>0</th>\n",
       "      <td>23</td>\n",
       "      <td>1</td>\n",
       "      <td>211</td>\n",
       "      <td>2.41</td>\n",
       "      <td>0.03</td>\n",
       "      <td>0.17</td>\n",
       "      <td>156</td>\n",
       "      <td>-0.52</td>\n",
       "      <td>2.02</td>\n",
       "    </tr>\n",
       "    <tr>\n",
       "      <th>1</th>\n",
       "      <td>38</td>\n",
       "      <td>5</td>\n",
       "      <td>211</td>\n",
       "      <td>2.25</td>\n",
       "      <td>0.07</td>\n",
       "      <td>3.74</td>\n",
       "      <td>153</td>\n",
       "      <td>-0.38</td>\n",
       "      <td>5.02</td>\n",
       "    </tr>\n",
       "    <tr>\n",
       "      <th>2</th>\n",
       "      <td>43</td>\n",
       "      <td>4</td>\n",
       "      <td>-321</td>\n",
       "      <td>2.38</td>\n",
       "      <td>-0.48</td>\n",
       "      <td>5.95</td>\n",
       "      <td>154</td>\n",
       "      <td>-1.92</td>\n",
       "      <td>2.98</td>\n",
       "    </tr>\n",
       "    <tr>\n",
       "      <th>3</th>\n",
       "      <td>52</td>\n",
       "      <td>2</td>\n",
       "      <td>211</td>\n",
       "      <td>2.47</td>\n",
       "      <td>0.73</td>\n",
       "      <td>2.76</td>\n",
       "      <td>157</td>\n",
       "      <td>0.06</td>\n",
       "      <td>-0.11</td>\n",
       "    </tr>\n",
       "    <tr>\n",
       "      <th>4</th>\n",
       "      <td>70</td>\n",
       "      <td>1</td>\n",
       "      <td>-211</td>\n",
       "      <td>2.64</td>\n",
       "      <td>0.32</td>\n",
       "      <td>3.71</td>\n",
       "      <td>157</td>\n",
       "      <td>-0.59</td>\n",
       "      <td>0.36</td>\n",
       "    </tr>\n",
       "  </tbody>\n",
       "</table>\n",
       "</div>"
      ],
      "text/plain": [
       "   event  label  particle    pt   eta   phi  nclusters  nsigmaTPC  nsigmaTOF\n",
       "0     23      1       211  2.41  0.03  0.17        156      -0.52       2.02\n",
       "1     38      5       211  2.25  0.07  3.74        153      -0.38       5.02\n",
       "2     43      4      -321  2.38 -0.48  5.95        154      -1.92       2.98\n",
       "3     52      2       211  2.47  0.73  2.76        157       0.06      -0.11\n",
       "4     70      1      -211  2.64  0.32  3.71        157      -0.59       0.36"
      ]
     },
     "execution_count": 4,
     "metadata": {},
     "output_type": "execute_result"
    }
   ],
   "source": [
    "df = pd.read_table('alicedata_piK.txt',header=0,delim_whitespace=True,engine='python',\n",
    "                  names=['event','label','particle','pt','eta','phi','nclusters','nsigmaTPC','nsigmaTOF'])\n",
    "pd.set_option('display.precision', 2)\n",
    "df.head(5)"
   ]
  },
  {
   "cell_type": "markdown",
   "id": "e2087bda",
   "metadata": {},
   "source": [
    "The ```particle``` column contains the information about the particle species. Let's see what values it takes:"
   ]
  },
  {
   "cell_type": "code",
   "execution_count": 5,
   "id": "8e9327a6",
   "metadata": {},
   "outputs": [
    {
     "name": "stdout",
     "output_type": "stream",
     "text": [
      "(75989, 9) [ 211 -321 -211  321]\n"
     ]
    }
   ],
   "source": [
    "print(df.shape, df.particle.unique())"
   ]
  },
  {
   "cell_type": "markdown",
   "id": "7c9c8137",
   "metadata": {},
   "source": [
    "We see four values, corresponding to positively and negatively charged pions and kaons. They use the so-called PDG particle numbering scheme. Let's encode them to strings for more illustrative data. We will also drop the 'label' column, which is not used."
   ]
  },
  {
   "cell_type": "code",
   "execution_count": 6,
   "id": "54465372",
   "metadata": {
    "scrolled": true
   },
   "outputs": [
    {
     "data": {
      "text/html": [
       "<div>\n",
       "<style scoped>\n",
       "    .dataframe tbody tr th:only-of-type {\n",
       "        vertical-align: middle;\n",
       "    }\n",
       "\n",
       "    .dataframe tbody tr th {\n",
       "        vertical-align: top;\n",
       "    }\n",
       "\n",
       "    .dataframe thead th {\n",
       "        text-align: right;\n",
       "    }\n",
       "</style>\n",
       "<table border=\"1\" class=\"dataframe\">\n",
       "  <thead>\n",
       "    <tr style=\"text-align: right;\">\n",
       "      <th></th>\n",
       "      <th>event</th>\n",
       "      <th>particle</th>\n",
       "      <th>pt</th>\n",
       "      <th>eta</th>\n",
       "      <th>phi</th>\n",
       "      <th>nclusters</th>\n",
       "      <th>nsigmaTPC</th>\n",
       "      <th>nsigmaTOF</th>\n",
       "    </tr>\n",
       "  </thead>\n",
       "  <tbody>\n",
       "    <tr>\n",
       "      <th>0</th>\n",
       "      <td>23</td>\n",
       "      <td>pi+</td>\n",
       "      <td>2.41</td>\n",
       "      <td>0.03</td>\n",
       "      <td>0.17</td>\n",
       "      <td>156</td>\n",
       "      <td>-0.52</td>\n",
       "      <td>2.02</td>\n",
       "    </tr>\n",
       "    <tr>\n",
       "      <th>1</th>\n",
       "      <td>38</td>\n",
       "      <td>pi+</td>\n",
       "      <td>2.25</td>\n",
       "      <td>0.07</td>\n",
       "      <td>3.74</td>\n",
       "      <td>153</td>\n",
       "      <td>-0.38</td>\n",
       "      <td>5.02</td>\n",
       "    </tr>\n",
       "    <tr>\n",
       "      <th>2</th>\n",
       "      <td>43</td>\n",
       "      <td>K-</td>\n",
       "      <td>2.38</td>\n",
       "      <td>-0.48</td>\n",
       "      <td>5.95</td>\n",
       "      <td>154</td>\n",
       "      <td>-1.92</td>\n",
       "      <td>2.98</td>\n",
       "    </tr>\n",
       "    <tr>\n",
       "      <th>3</th>\n",
       "      <td>52</td>\n",
       "      <td>pi+</td>\n",
       "      <td>2.47</td>\n",
       "      <td>0.73</td>\n",
       "      <td>2.76</td>\n",
       "      <td>157</td>\n",
       "      <td>0.06</td>\n",
       "      <td>-0.11</td>\n",
       "    </tr>\n",
       "    <tr>\n",
       "      <th>4</th>\n",
       "      <td>70</td>\n",
       "      <td>pi-</td>\n",
       "      <td>2.64</td>\n",
       "      <td>0.32</td>\n",
       "      <td>3.71</td>\n",
       "      <td>157</td>\n",
       "      <td>-0.59</td>\n",
       "      <td>0.36</td>\n",
       "    </tr>\n",
       "  </tbody>\n",
       "</table>\n",
       "</div>"
      ],
      "text/plain": [
       "   event particle    pt   eta   phi  nclusters  nsigmaTPC  nsigmaTOF\n",
       "0     23      pi+  2.41  0.03  0.17        156      -0.52       2.02\n",
       "1     38      pi+  2.25  0.07  3.74        153      -0.38       5.02\n",
       "2     43       K-  2.38 -0.48  5.95        154      -1.92       2.98\n",
       "3     52      pi+  2.47  0.73  2.76        157       0.06      -0.11\n",
       "4     70      pi-  2.64  0.32  3.71        157      -0.59       0.36"
      ]
     },
     "execution_count": 6,
     "metadata": {},
     "output_type": "execute_result"
    }
   ],
   "source": [
    "df.loc[df.particle==211,'particle']='pi+'\n",
    "df.loc[df.particle==-211,'particle']='pi-'\n",
    "df.loc[df.particle==321,'particle']='K+'\n",
    "df.loc[df.particle==-321,'particle']='K-'\n",
    "df.drop(columns='label',inplace=True)\n",
    "df.head()"
   ]
  },
  {
   "cell_type": "markdown",
   "id": "f2aafabf",
   "metadata": {},
   "source": [
    "## Measured properties of detected particles <a name=\"properties\"></a>\n",
    "\n",
    "A collision event can look like this:\n",
    "<img src=\"pictures/event.gif\" alt=\"event\" width=\"400px\" />\n",
    "<center>Illustration of a collision event. Image credit: CERN</center>\n",
    "The geometry is defined according to the following picture (at ALICE, the definition is the same as at CMS): \n",
    "<img src=\"pictures/kinematics2.png\" alt=\"kinematics\" width=\"400px\" />\n",
    "<center>Geometry at the LHC experiments. The *xy*-plane is defined as the one perpendicular to the LHC. Taken from [1].</center>\n",
    "\n",
    "ALICE detectors tell us a lot about the measured particle properties. The Time Projection Barrel (TPC) is a large gaseous chamber which utilises the fact that charged particles leave ionisation trails in its volume, which can be detected and reconstructed into tracks. Apart from the TPC, the more precise semi-conductor detector Inner Tracking System (ITS) also assists in this.\n",
    "\n",
    "We use the following observables to describe the kinematics of the tracks produced at the collision point:\n",
    "1. __transverse momentum $p_\\mathrm{T}$ (GeV/*c*)__\n",
    "    - projection of the particle's momentum in th *xy*-plane. Calculated from the track's curvature in the magnetic field that the detector is subjected to. \n",
    "2. __pseudorapidity $\\eta$ (-)__\n",
    "    - which is defined as a function of the particle's polar angle $\\theta$:\n",
    "        $$\\eta = - \\log ( \\tanh \\frac{\\theta}{2} ) \\, \\, .$$\n",
    "    - The reason why $\\eta$ is used in HEP is because of its close approximation to an observable called rapidity $y$, which is then related to the particle's longitudinal momentum $p_z$.\n",
    "3. __azimuthal angle $\\phi$__\n",
    "\n",
    "In addition to the kinematics, ALICE detectors also tell about some other characteristics. The Time Of Flight (TOF) detector measures the time it takes for a particle to travel a given distance. Both the TPC and the TOF are used to perform Particle Identification (PID). In our dataset, we have this information:\n",
    "1. __number of clusters in the TPC $\\mathrm{N_{clusters}}$ (-)__ : the number of charge signals detected at the segmented read-out ends of the TPC. The more clusters, the higher quality of the track.\n",
    "\n",
    "2. __TPC PID $\\mathrm{n \\sigma_{TPC}^\\pi}$'s (-)__ : a measure of the track's probability to be a pion, based on the amount of energy lost to the TPC gas due to ionisation. Different particle species have different specific energy loss. It is expressed in the number of Gaussian widths from the expected value.\n",
    "\n",
    "3. __TOF PID $\\mathrm{n \\sigma_{TOF}^\\pi}$'s (-)__ : a measure of the track's probability to be a pion, based on the particle's velocity. Comparing the particle's velocity and momentum, the mass -- and hence species -- can be determined. It is expressed in the number of Gaussian widths from the expected value.\n",
    "\n",
    "In the dataframe, $p_\\mathrm{T}$, $\\eta$, $\\phi$, $\\mathrm{N_{clusters}}$, $\\mathrm{n \\sigma_{TPC}^\\pi}$, and $\\mathrm{n \\sigma_{TOF}^\\pi}$ are labelled as `pt`, `eta`, `phi`, `nclusters`, `nsigmaTPC`, `nsigmaTOF`, respectively.\n"
   ]
  },
  {
   "cell_type": "markdown",
   "id": "7ff38acc",
   "metadata": {},
   "source": [
    "## Detector coverage <a name=\"coverage\"></a>\n",
    "\n",
    "We can look at our data to see which part of the area around the interaction point is well covered with our tracks."
   ]
  },
  {
   "cell_type": "code",
   "execution_count": 7,
   "id": "a840acb2",
   "metadata": {},
   "outputs": [
    {
     "data": {
      "image/png": "[encoded data removed]",
      "text/plain": [
       "<Figure size 900x450 with 2 Axes>"
      ]
     },
     "metadata": {},
     "output_type": "display_data"
    }
   ],
   "source": [
    "# Using seaborn to show a 2D distribution\n",
    "g = sns.displot(x='phi',y='eta',data=df,cbar=True,cmap='rainbow',\n",
    "           height=4.5,aspect=2.,cbar_kws={'label': 'Entries'})\n",
    "\n",
    "# Adjusting styling and labelling\n",
    "g.set_axis_labels(\"azimuthal angle $\\phi$\", \"pseudorapidity $\\eta$\")\n",
    "g.tick_params(axis='both',which='both',direction='in')\n",
    "g.ax.grid(True,which='major',axis='both',alpha=0.3)\n",
    "g.ax.margins(x=0,y=0)"
   ]
  },
  {
   "cell_type": "markdown",
   "id": "62beac6c",
   "metadata": {},
   "source": [
    "Tracks in our dataset are more or less uniformly distributed in $-0.8<\\eta<0.8$ and $0<\\phi<2\\pi$, with the exception of a hole around $\\eta \\approx 0$ and $\\phi \\approx 5$. This is likely caused by an inadequate performance of one of the ITS's subsystems during the data collection period that our simulation is tied to."
   ]
  },
  {
   "cell_type": "markdown",
   "id": "22b34c4c",
   "metadata": {},
   "source": [
    "## Event display <a name=\"display\"></a>\n",
    "\n",
    "A display of a typical event of proton-proton collisions at ALICE can look like this:\n",
    "<img src=\"pictures/alice_event.jpeg\" alt=\"ALICE event\" width=\"800px\" />\n",
    "<center>Event display of pp collisions at the ALICE experiment. Image credit: CERN</center>\n",
    "\n",
    "The upper-right subplot shows the projection in the *xy*-plane. Let's look at our data and display some events with the most tracks. We will visualise them as momentum vectors. Some events reveal clear \"di-jet\" structures, where two highly collimated showers of particles are produced back to back. Note that in events, the sum of transverse momenta of all produced particles has to be zero, due to the law of momentum conservation. However, this does not have to be the case in the data, as it doesn't contain neutral particles, other particle species, as well as tracks with low or high momenta. "
   ]
  },
  {
   "cell_type": "code",
   "execution_count": 8,
   "id": "d299834b",
   "metadata": {},
   "outputs": [
    {
     "data": {
      "text/html": [
       "<div>\n",
       "<style scoped>\n",
       "    .dataframe tbody tr th:only-of-type {\n",
       "        vertical-align: middle;\n",
       "    }\n",
       "\n",
       "    .dataframe tbody tr th {\n",
       "        vertical-align: top;\n",
       "    }\n",
       "\n",
       "    .dataframe thead th {\n",
       "        text-align: right;\n",
       "    }\n",
       "</style>\n",
       "<table border=\"1\" class=\"dataframe\">\n",
       "  <thead>\n",
       "    <tr style=\"text-align: right;\">\n",
       "      <th>event</th>\n",
       "      <th>343636</th>\n",
       "      <th>10235</th>\n",
       "      <th>270312</th>\n",
       "      <th>248921</th>\n",
       "      <th>181345</th>\n",
       "      <th>65417</th>\n",
       "      <th>179277</th>\n",
       "      <th>436580</th>\n",
       "      <th>112899</th>\n",
       "      <th>13004</th>\n",
       "      <th>352750</th>\n",
       "      <th>27842</th>\n",
       "      <th>362753</th>\n",
       "      <th>956</th>\n",
       "      <th>290279</th>\n",
       "    </tr>\n",
       "  </thead>\n",
       "  <tbody>\n",
       "    <tr>\n",
       "      <th>particle</th>\n",
       "      <td>12</td>\n",
       "      <td>12</td>\n",
       "      <td>11</td>\n",
       "      <td>11</td>\n",
       "      <td>10</td>\n",
       "      <td>10</td>\n",
       "      <td>10</td>\n",
       "      <td>10</td>\n",
       "      <td>9</td>\n",
       "      <td>9</td>\n",
       "      <td>9</td>\n",
       "      <td>8</td>\n",
       "      <td>8</td>\n",
       "      <td>8</td>\n",
       "      <td>8</td>\n",
       "    </tr>\n",
       "  </tbody>\n",
       "</table>\n",
       "</div>"
      ],
      "text/plain": [
       "event     343636  10235   270312  248921  181345  65417   179277  436580  \\\n",
       "particle      12      12      11      11      10      10      10      10   \n",
       "\n",
       "event     112899  13004   352750  27842   362753  956     290279  \n",
       "particle       9       9       9       8       8       8       8  "
      ]
     },
     "metadata": {},
     "output_type": "display_data"
    },
    {
     "data": {
      "application/vnd.jupyter.widget-view+json": {
       "model_id": "97a2f4aa315e43838ba6075ee72f80a0",
       "version_major": 2,
       "version_minor": 0
      },
      "text/plain": [
       "interactive(children=(Dropdown(description='eventID', index=1, options=(343636, 10235, 270312, 248921, 181345,…"
      ]
     },
     "metadata": {},
     "output_type": "display_data"
    },
    {
     "data": {
      "text/plain": [
       "<function __main__.eventDisplay(eventID=10235)>"
      ]
     },
     "execution_count": 8,
     "metadata": {},
     "output_type": "execute_result"
    }
   ],
   "source": [
    "# Defining the event display\n",
    "def eventDisplay(eventID=10235) :\n",
    "    df_ev = df[df.event==eventID].copy()\n",
    "    # Adding starting positions of vectors\n",
    "    df_ev['orig'] = np.zeros(len(df_ev['pt']))\n",
    "    # Plotting in polar coordinates\n",
    "    g = sns.FacetGrid(df_ev, hue=\"particle\", #hue_order=[\"pi+\",\"pi-\",\"K+\",\"K-\"],\n",
    "                  subplot_kws=dict(projection='polar'), height=4.5, legend_out=False,\n",
    "                  despine=False)\n",
    "    # Plotting each particle as a vector using quiver\n",
    "    g.map(plt.quiver,\"orig\",\"orig\",\"phi\",\"pt\",angles='xy',scale_units='xy',scale=1.)\n",
    "    # Styling\n",
    "    g.add_legend()\n",
    "    sns.move_legend(g, \"center\", bbox_to_anchor=(1.1, 0.5), title='Species')\n",
    "    g.set(rmin=0.,rmax=8.,yticks=[2., 5., 8.], \n",
    "          yticklabels=['2 GeV/$\\it{c}$', '5 GeV/$\\it{c}$', '8 GeV/$\\it{c}$'], \n",
    "          xlabel=\"azimuthal angle $\\phi$\", ylabel=\"\" )\n",
    "    \n",
    "# Showing a table of events with the most particles    \n",
    "richEvents = df.pivot_table(index='event',values=['particle'],aggfunc='count')\n",
    "richEvents = richEvents.sort_values('particle',ascending=False).head(15).T\n",
    "display(richEvents)\n",
    "\n",
    "# Using interact to display an event\n",
    "interact(eventDisplay,eventID=richEvents.columns)"
   ]
  },
  {
   "cell_type": "markdown",
   "id": "98937757",
   "metadata": {},
   "source": [
    "## Transverse momentum distributions <a name=\"pt\"></a>\n",
    "\n",
    "We will have a look at the distributions of transverse momentum for the $\\mathrm{\\pi^{\\pm}}$ and $\\mathrm{K^{\\pm}}$ and visualise them as histograms. We also calculate and plot statistical uncertainties as errorbars. They reflect our estimate of how much can the spectra fluctuate due to randomness. The data shows that the $\\mathrm{p_T}$-spectra of detected pions and kaons decrease more or less logarithmically. In order for this result to be relevant physics-wise, various corrections for detector effects would have to be applied."
   ]
  },
  {
   "cell_type": "code",
   "execution_count": 9,
   "id": "52102240",
   "metadata": {},
   "outputs": [
    {
     "name": "stderr",
     "output_type": "stream",
     "text": [
      "The PostScript backend does not support transparency; partially transparent artists will be rendered opaque.\n"
     ]
    },
    {
     "data": {
      "image/png": "[encoded data removed]",
      "text/plain": [
       "<Figure size 890x500 with 1 Axes>"
      ]
     },
     "metadata": {},
     "output_type": "display_data"
    }
   ],
   "source": [
    "# Prepare histograms from the dataframe\n",
    "bins = np.linspace(2.,8.0,51)\n",
    "count_pi, division = np.histogram(df[(df.particle=='pi+') | (df.particle=='pi-')].loc[:,\"pt\"],bins=bins)\n",
    "count_K, division = np.histogram(df[(df.particle=='K+') | (df.particle=='K-')].loc[:,\"pt\"],bins=bins)\n",
    "\n",
    "# Calculate bin widths and bin midpoints\n",
    "binw = (8.0-2.0)/(len(bins)-1)\n",
    "mid = bins[:-1]+binw/2.\n",
    "\n",
    "# Plot histograms with errorbars as barplots\n",
    "fig,ax = plt.subplots(figsize=(8.9,5))\n",
    "hpi = ax.bar(x=mid,height=count_pi,width=binw,yerr=np.sqrt(count_pi),\n",
    "       xerr=binw/2.,color='b', ecolor='b',linewidth=0,fill=False)\n",
    "hK = ax.bar(x=mid,height=count_K,width=binw,yerr=np.sqrt(count_K),\n",
    "       xerr=binw/2.,color='r', ecolor='r',linewidth=0,fill=False)\n",
    "\n",
    "# Adjust axes and styling\n",
    "ax.set_xlim([1.8, 8.2])\n",
    "ax.set_xlabel(\"$\\mathrm{p_T \\, \\, (GeV/\\it{c})}$\")\n",
    "ax.set_ylabel(\"Entries\")\n",
    "ax.set_yscale('log')\n",
    "ax.tick_params(axis='both',which='both',direction='in')\n",
    "ax.grid(True,which='major',axis='both',alpha=0.3)\n",
    "\n",
    "# Plot custom legend\n",
    "legend_elements = [Line2D([0], [0], color='b', lw=2, label='$\\mathrm{\\pi^{\\pm}}$'),\n",
    "                   Line2D([0], [0], color='r', lw=2, label='$\\mathrm{K^{\\pm}}$')]\n",
    "ax.legend(handles=legend_elements,\n",
    "    loc='upper left',\n",
    "    bbox_to_anchor=(0.7,0.9),\n",
    "    frameon=False)\n",
    "\n",
    "# Saving the plot\n",
    "fig.savefig('outputs/pT_spectrum_piK.eps', format='eps')\n",
    "fig.savefig('outputs/pT_spectrum_piK.png', format='png', dpi=300)"
   ]
  },
  {
   "cell_type": "markdown",
   "id": "a6df6dc9",
   "metadata": {},
   "source": [
    "## Looking closer at the dataset <a name=\"closer\"></a>\n",
    "\n",
    "Measurements at ALICE are typically performed as a function of $\\mathrm{p_T}$ -- it is of a physical interest and also many of the detector responses and analysis techniques depend on it. Further in this notebook, we will build an ANN to distinguish pions from kaons -- also in different intervals of $\\mathrm{p_T}$. Let us have a closer look at the data to get a feeling of how many particles we have in our data and what are the averages of their properties in different $\\mathrm{p_T}$ bins."
   ]
  },
  {
   "cell_type": "code",
   "execution_count": 10,
   "id": "dd7337a1",
   "metadata": {},
   "outputs": [
    {
     "data": {
      "application/vnd.jupyter.widget-view+json": {
       "model_id": "8a1917d32e524ae2b7289345a02a8065",
       "version_major": 2,
       "version_minor": 0
      },
      "text/plain": [
       "interactive(children=(FloatSlider(value=2.0, continuous_update=False, description='lowpt', max=7.5, min=2.0, s…"
      ]
     },
     "metadata": {},
     "output_type": "display_data"
    },
    {
     "data": {
      "text/plain": [
       "<function __main__.showMeans(lowpt=2.0, highpt=8.0)>"
      ]
     },
     "execution_count": 10,
     "metadata": {},
     "output_type": "execute_result"
    }
   ],
   "source": [
    "# Showing number of particles and the averages of their properties\n",
    "def showMeans(lowpt=2.,highpt=8.):\n",
    "    print('The number of particles in range:\\n')\n",
    "    print(df[(df.pt>lowpt) & (df.pt<highpt)].pivot_table(index='particle',values=['pt'],aggfunc='count').loc[['pi+','pi-','K+','K-']])\n",
    "    print('\\nMeans of their properties:')\n",
    "    return df[(df.pt>lowpt) & (df.pt<highpt)].pivot_table(index='particle',values=['nsigmaTOF','nsigmaTPC','nclusters','pt'],aggfunc='mean').loc[['pi+','pi-','K+','K-']]\n",
    "\n",
    "# Making sliders which depend on each other\n",
    "lowpt_widget = widgets.FloatSlider(min=2.0, max=7.5, step=0.05, value=2., continuous_update=False)\n",
    "highpt_widget = widgets.FloatSlider(min=2.5, max=8.0, step=0.05, value=8., continuous_update=False)\n",
    "def update_low_range(*args):\n",
    "    lowpt_widget.max = 1.0 * highpt_widget.value - 0.5\n",
    "highpt_widget.observe(update_low_range, 'value')\n",
    "\n",
    "# Using interact to select the pT interval\n",
    "interact(showMeans, lowpt=lowpt_widget, highpt=highpt_widget)"
   ]
  },
  {
   "cell_type": "markdown",
   "id": "42efd354",
   "metadata": {},
   "source": [
    "The properties of tracks do not largely depend on the charge. Thus, we will group negative and positive tracks together. Furthermore, we will have a look at the pair-wise correlations between the track properties."
   ]
  },
  {
   "cell_type": "code",
   "execution_count": 11,
   "id": "19002a6b",
   "metadata": {},
   "outputs": [
    {
     "data": {
      "application/vnd.jupyter.widget-view+json": {
       "model_id": "c8a5a1dac3e54c9f9d839d384b90a6cf",
       "version_major": 2,
       "version_minor": 0
      },
      "text/plain": [
       "interactive(children=(IntSlider(value=2, description='bin', max=4), Button(description='Run Interact', style=B…"
      ]
     },
     "metadata": {},
     "output_type": "display_data"
    },
    {
     "data": {
      "text/plain": [
       "<function __main__.showProperties(bin=2)>"
      ]
     },
     "execution_count": 11,
     "metadata": {},
     "output_type": "execute_result"
    }
   ],
   "source": [
    "# Defining intervals in pT \n",
    "ptbins = [ [2.,3.], [3.,4.], [4.,5.], [5.,6.], [6.,7.], [7.,8.] ]\n",
    "\n",
    "# Function returning PID info for pi+- and K+- in given pT interval\n",
    "def pidInfoInPt(bin):\n",
    "    df_pid = df[(df.pt > ptbins[bin][0]) & (df.pt < ptbins[bin][1])] \n",
    "    df_pid = df_pid[[\"pt\",\"particle\",\"nclusters\",\"nsigmaTPC\",\"nsigmaTOF\"]]\n",
    "    for i in df_pid.index:\n",
    "        if (df_pid.loc[i, \"particle\"] == \"pi+\") | (df_pid.loc[i, \"particle\"] == \"pi-\"):\n",
    "            df_pid.loc[i, \"particle\"] = \"pi\"\n",
    "        if (df_pid.loc[i, \"particle\"] == \"K+\") | (df_pid.loc[i, \"particle\"] == \"K-\"):\n",
    "            df_pid.loc[i, \"particle\"] = \"K\"\n",
    "    return df_pid\n",
    "\n",
    "# Function plotting pair PID distributions in given pT interval\n",
    "def showProperties(bin = 2):\n",
    "    print(\"Showing properties of tracks in pT interval \", ptbins[bin][0], \" < pT < \", ptbins[bin][1],\" GeV/c\")\n",
    "    df_pid = pidInfoInPt(bin)\n",
    "    ax = sns.pairplot(df_pid, hue=\"particle\", kind=\"hist\", corner=True, height=1.5) \n",
    "    sns.move_legend(ax, loc=\"center\", bbox_to_anchor=(0.7, 0.8), title='Species')\n",
    "\n",
    "# Using manual interact to choose bin and display due to larger processing time    \n",
    "interact_manual(showProperties,bin=(0,4,1))"
   ]
  },
  {
   "cell_type": "markdown",
   "id": "f3a295db",
   "metadata": {},
   "source": [
    "As expected, the data shows that the most important feature when distinguishing between pions and kaons is the $\\mathrm{n \\sigma_{TPC}^\\pi}$. In the lower momentum intervals, the $\\mathrm{n \\sigma_{TOF}^\\pi}$ also plays a role, but loses its predicting power in the higher ones."
   ]
  },
  {
   "cell_type": "markdown",
   "id": "dd8339a6",
   "metadata": {},
   "source": [
    "## Artificial Neural Networks <a name=\"anns\"></a>\n",
    "\n",
    "Artificial Neural Networks (ANNs) are computational models inspired by the structure and function of the human brain. They consist of a large number of simple processing units, called artificial neurons, which process and transmit information.\n",
    "\n",
    "Each artificial neuron has one or more inputs, a processing unit that performs a mathematical operation, and a single output. The inputs are typically weighted, meaning each input is multiplied by a weight factor that represents its relative importance. The weighted inputs are then combined and passed through a non-linear activation function, which produces the output of the neuron. The activation function controls the behavior of the neuron, determining whether it will fire (produce a large output) or not fire (produce a small output) for a given input.\n",
    "\n",
    "<img src=\"pictures/neurons1.png\" alt=\"Neurons\" width=\"800px\" />\n",
    "<center>A biological and an artificial neuron. Taken from [2].</center>\n",
    "\n",
    "Multiple Layer Perceptrons (MLPs) are a simple type of ANN which are composed of one or more layers of artificial neurons that are interconnected. For classification problems, MLPs are trained on a set of labeled examples to learn to predict the class of an unseen example. The input to the network is a set of features describing the example, and the output is a prediction of the class label. The training process involves adjusting the weights of the connections between the neurons to minimize the prediction error on the training set. Once trained, the network can be used to make predictions for new, unseen examples. In our case, they can be used to identify whether a given track is a pion or a kaon.\n",
    "\n",
    "<img src=\"pictures/neurons2.png\" alt=\"Neurons and MLP\" width=\"800px\" />\n",
    "<center>Connection of two biological neurons and layers of artificial neurons into a MLP. Taken from [2]-</center>\n",
    "\n",
    "ANNs can have many designs and its properties are called hyper-parameters. For MLPs, they are:\n",
    "- __Number of hidden layers__: determines the complexity of the model and the ability to capture complex relationships in the data. More hidden layers generally allow for more complex representations, but also increase the risk of overfitting.\n",
    "- __Number of neurons per layer__: similar to number of hidden layers.\n",
    "- __Activation functions__: determine the non-linearity of the model and how the neurons process the inputs. Common activation functions include sigmoid, tanh, and ReLU.\n",
    "- __Learning rate__: determines the step size in the weight update rule during training. A larger learning rate can lead to faster convergence but may result in oscillations or instability. A smaller learning rate may converge more slowly but be more stable.\n",
    "- __Regularization__: regularization techniques, such as L1, L2, or dropout, are used to prevent overfitting by adding constraints to the model during training.\n",
    "- __Training algorithm__: determines how the model parameters are updated during training. Common algorithms include stochastic gradient descent (SGD) and its variants, such as mini-batch SGD and Adam.\n",
    "- __Loss function__: measures the difference between the predicted and actual outputs and is used to guide the weight update during training. Common loss functions for classification problems include cross-entropy loss and hinge loss.\n",
    "- __Batch size__: determines the number of training examples used in each weight update step during training.\n",
    "- __Number of epochs__: An epoch is a complete pass over the entire training set. During each epoch, the MLP is updated using the current batch of examples."
   ]
  },
  {
   "cell_type": "markdown",
   "id": "ac932725",
   "metadata": {},
   "source": [
    "## Preparing the ANN <a name=\"preparingann\"></a>\n",
    "\n",
    "First, we have to prepare our dataset. We split the data into a training set and a validation set. This is done to prevent overfitting, which occurs when the model becomes too closely adapted to the training data and performs poorly on new, unseen data.\n",
    "\n",
    "The training set is used to fit the model by updating its parameters during training. The validation set is used to evaluate the model's performance during training, without affecting the model parameters. This provides an estimate of its performance on unseen data, and can also be used to monitor its progress during training. If it decreases or plateaus, it is a sign of overfitting and the training process should be stopped. It is also used to adjust the hyper-parameters and improve the model's architecture.\n",
    "\n",
    "We will now prepare a MLP model to classify our data into pions and kaons, based on the input features `pt`, `nclusters`, `nsigmaTPC`, `nsigmaTOF`. The prediction targets are 0 for pions and 1 for kaons. The input features are also normalised. We look at the interval 4.0 $ < \\mathrm{p_T} <$ 5.0 GeV/*c* by default. In this region, the pion and kaon distribution start to significantly overlap."
   ]
  },
  {
   "cell_type": "code",
   "execution_count": 12,
   "id": "ee6b17c7",
   "metadata": {},
   "outputs": [
    {
     "name": "stdout",
     "output_type": "stream",
     "text": [
      "WARNING:tensorflow:From /home/matonoliv/anaconda3/envs/LUcompute/lib/python3.10/site-packages/tensorflow/python/autograph/pyct/static_analysis/liveness.py:83: Analyzer.lamba_check (from tensorflow.python.autograph.pyct.static_analysis.liveness) is deprecated and will be removed after 2023-09-23.\n",
      "Instructions for updating:\n",
      "Lambda fuctions will be no more assumed to be used in the statement where they are used, or at least in the same block. https://github.com/tensorflow/tensorflow/issues/56089\n"
     ]
    },
    {
     "name": "stderr",
     "output_type": "stream",
     "text": [
      "2023-03-24 12:31:29.171806: I tensorflow/core/platform/cpu_feature_guard.cc:193] This TensorFlow binary is optimized with oneAPI Deep Neural Network Library (oneDNN) to use the following CPU instructions in performance-critical operations:  SSE4.1 SSE4.2 AVX AVX2 FMA\n",
      "To enable them in other operations, rebuild TensorFlow with the appropriate compiler flags.\n"
     ]
    },
    {
     "data": {
      "image/png": "[encoded data removed]",
      "text/plain": [
       "<IPython.core.display.Image object>"
      ]
     },
     "execution_count": 12,
     "metadata": {},
     "output_type": "execute_result"
    }
   ],
   "source": [
    "# Function converting pd dataframe to tf dataset\n",
    "def dataframe_to_dataset(dataframe):\n",
    "    dataframe = dataframe.copy()\n",
    "    labels = dataframe.pop(\"particle\")\n",
    "    ds = tf.data.Dataset.from_tensor_slices((dict(dataframe), labels))\n",
    "    return ds\n",
    "\n",
    "# Function encoding float values in data\n",
    "def encode_numerical_feature(feature, name, dataset):\n",
    "    # Create a Normalization layer for our feature\n",
    "    normalizer = Normalization()\n",
    "    # Prepare a Dataset that only yields our feature\n",
    "    feature_ds = dataset.map(lambda x, y: x[name])\n",
    "    feature_ds = feature_ds.map(lambda x: tf.expand_dims(x, -1))\n",
    "    # Learn the statistics of the data\n",
    "    normalizer.adapt(feature_ds)\n",
    "    # Normalize the input feature\n",
    "    encoded_feature = normalizer(feature)\n",
    "    return encoded_feature\n",
    "\n",
    "# Selecting data in one pT bin and encoding targets\n",
    "df_pid = pidInfoInPt(2)\n",
    "df_pid['particle'].replace(['pi', 'K'],[0, 1], inplace=True)\n",
    "#display(df_pid.head())\n",
    "    \n",
    "# Splitting dataset into training, validation, and testing\n",
    "val_dataframe = df_pid.sample(frac=0.3, random_state=1337)\n",
    "train_dataframe = df_pid.drop(val_dataframe.index)\n",
    "train_ds = dataframe_to_dataset(train_dataframe)\n",
    "val_ds = dataframe_to_dataset(val_dataframe)\n",
    "\n",
    "#for x, y in train_ds.take(1):\n",
    "#    print(\"Input:\", x)\n",
    "#    print(\"Target:\", y)\n",
    "\n",
    "# Batching the datasets\n",
    "train_ds = train_ds.batch(32, drop_remainder=True)\n",
    "val_ds = val_ds.batch(32, drop_remainder=True)\n",
    "\n",
    "# Numerical inputs\n",
    "pt = keras.Input(shape=(1,), name=\"pt\")\n",
    "nclusters = keras.Input(shape=(1,), name=\"nclusters\")\n",
    "nsigmaTOF = keras.Input(shape=(1,), name=\"nsigmaTOF\")\n",
    "nsigmaTPC = keras.Input(shape=(1,), name=\"nsigmaTPC\")\n",
    "all_inputs = [pt,nclusters,nsigmaTOF,nsigmaTPC]\n",
    "# Numerical features\n",
    "pt_encoded = encode_numerical_feature(pt, \"pt\", train_ds)\n",
    "nclusters_encoded = encode_numerical_feature(nclusters, \"nclusters\", train_ds)\n",
    "nsigmaTOF_encoded = encode_numerical_feature(nsigmaTOF, \"nsigmaTOF\", train_ds)\n",
    "nsigmaTPC_encoded = encode_numerical_feature(nsigmaTPC, \"nsigmaTPC\", train_ds)\n",
    "all_features = layers.concatenate([pt_encoded, nclusters_encoded, nsigmaTOF_encoded, nsigmaTPC_encoded])\n",
    "\n",
    "# Setting up MLP hyperparameters\n",
    "x = layers.Dense(10, activation=\"relu\")(all_features)\n",
    "x = layers.Dropout(0.25)(x)\n",
    "output = layers.Dense(1, activation=\"sigmoid\")(x)\n",
    "model = keras.Model(all_inputs, output)\n",
    "model.compile(\"adam\", \"binary_crossentropy\", metrics=[\"accuracy\"])\n",
    "\n",
    "# Visualising connectivity graph of the model\n",
    "keras.utils.plot_model(model, show_layer_activations=True, rankdir=\"LR\")\n",
    "#model.summary()"
   ]
  },
  {
   "cell_type": "markdown",
   "id": "545a3a0c",
   "metadata": {},
   "source": [
    "## Training the ANN <a name=\"trainingann\"></a>\n",
    "\n",
    "Having prepared the network, we can now proceed to training it. We choose 15 epochs. To measure the network's performance, we use the accuracy metric. It is calculated as the number of correct predictions divided by the total number of predictions. Given the fact that the classes in our data are not so balanced, the precision metric could also be used.\n",
    "\n",
    "We also show the confusion matrix, which is a two-dimensional table that summarizes the model's predictions, showing the number of true positive, false positive, true negative, and false negative predictions."
   ]
  },
  {
   "cell_type": "code",
   "execution_count": 13,
   "id": "612cc183",
   "metadata": {},
   "outputs": [
    {
     "name": "stdout",
     "output_type": "stream",
     "text": [
      "Epoch 1/15\n",
      "97/97 [==============================] - 1s 6ms/step - loss: 0.5810 - accuracy: 0.7812 - val_loss: 0.4943 - val_accuracy: 0.8605\n",
      "Epoch 2/15\n",
      "97/97 [==============================] - 0s 3ms/step - loss: 0.4743 - accuracy: 0.8502 - val_loss: 0.3932 - val_accuracy: 0.9085\n",
      "Epoch 3/15\n",
      "97/97 [==============================] - 0s 3ms/step - loss: 0.3919 - accuracy: 0.8756 - val_loss: 0.3166 - val_accuracy: 0.9207\n",
      "Epoch 4/15\n",
      "97/97 [==============================] - 0s 3ms/step - loss: 0.3261 - accuracy: 0.9008 - val_loss: 0.2611 - val_accuracy: 0.9253\n",
      "Epoch 5/15\n",
      "97/97 [==============================] - 0s 3ms/step - loss: 0.2819 - accuracy: 0.9066 - val_loss: 0.2229 - val_accuracy: 0.9314\n",
      "Epoch 6/15\n",
      "97/97 [==============================] - 0s 3ms/step - loss: 0.2496 - accuracy: 0.9185 - val_loss: 0.1957 - val_accuracy: 0.9337\n",
      "Epoch 7/15\n",
      "97/97 [==============================] - 0s 2ms/step - loss: 0.2370 - accuracy: 0.9182 - val_loss: 0.1775 - val_accuracy: 0.9352\n",
      "Epoch 8/15\n",
      "97/97 [==============================] - 0s 2ms/step - loss: 0.2135 - accuracy: 0.9236 - val_loss: 0.1650 - val_accuracy: 0.9375\n",
      "Epoch 9/15\n",
      "97/97 [==============================] - 0s 3ms/step - loss: 0.2110 - accuracy: 0.9243 - val_loss: 0.1573 - val_accuracy: 0.9360\n",
      "Epoch 10/15\n",
      "97/97 [==============================] - 0s 2ms/step - loss: 0.1871 - accuracy: 0.9336 - val_loss: 0.1510 - val_accuracy: 0.9375\n",
      "Epoch 11/15\n",
      "97/97 [==============================] - 0s 2ms/step - loss: 0.1829 - accuracy: 0.9346 - val_loss: 0.1469 - val_accuracy: 0.9375\n",
      "Epoch 12/15\n",
      "97/97 [==============================] - 0s 2ms/step - loss: 0.1729 - accuracy: 0.9356 - val_loss: 0.1433 - val_accuracy: 0.9390\n",
      "Epoch 13/15\n",
      "97/97 [==============================] - 0s 2ms/step - loss: 0.1765 - accuracy: 0.9365 - val_loss: 0.1407 - val_accuracy: 0.9390\n",
      "Epoch 14/15\n",
      "97/97 [==============================] - 0s 2ms/step - loss: 0.1762 - accuracy: 0.9349 - val_loss: 0.1392 - val_accuracy: 0.9390\n",
      "Epoch 15/15\n",
      "97/97 [==============================] - 0s 3ms/step - loss: 0.1683 - accuracy: 0.9381 - val_loss: 0.1375 - val_accuracy: 0.9390\n",
      "41/41 [==============================] - 0s 2ms/step\n"
     ]
    },
    {
     "data": {
      "image/png": "[encoded data removed]",
      "text/plain": [
       "<Figure size 1000x400 with 2 Axes>"
      ]
     },
     "metadata": {},
     "output_type": "display_data"
    }
   ],
   "source": [
    "# Fitting the model and plotting the training progress\n",
    "estimator = model.fit(train_ds, epochs=15, validation_data=val_ds)\n",
    "legend_labels = { 'loss':'Loss', 'val_loss':'Validation loss', \n",
    "                 'accuracy':'Accuracy', 'val_accuracy':'Validation accuracy'}\n",
    "\n",
    "# Plotting the training statistic evolutions\n",
    "fig,(ax1,ax2) = plt.subplots(nrows=1,ncols=2,figsize=(10,4))\n",
    "ax1.set_ylabel('Statistic')\n",
    "ax1.set_xlabel('Epoch')\n",
    "for k in estimator.history.keys():\n",
    "    ax1.plot(estimator.history[k], label = legend_labels[k]) \n",
    "ax1.legend(loc='best',frameon=False)\n",
    "\n",
    "# Calculating predictions and confusion matrix\n",
    "validation_labels = np.concatenate([y for x, y in val_ds], axis=0)\n",
    "prediction = model.predict(val_ds)\n",
    "#validation_pred = np.argmax(prediction, axis = 1)\n",
    "validation_pred = (prediction > .5) * 1\n",
    "cm = tf.math.confusion_matrix(validation_labels, validation_pred)\n",
    "\n",
    "# Plotting the confusion matrix\n",
    "ax2.imshow(cm, interpolation='nearest', cmap='Blues')\n",
    "classes = [0,1]\n",
    "ax2.set_xticks(classes,[\"Predicted $\\mathrm{\\pi^\\pm}$\",\"Predicted $\\mathrm{K^\\pm}$\"])\n",
    "ax2.set_yticks(classes,[\"True $\\mathrm{\\pi^\\pm}$\",\"True $\\mathrm{K^\\pm}$\"])\n",
    "text_thresh = 0.5*cm.numpy().max()\n",
    "for i, j in itertools.product(classes, classes):\n",
    "    text = ax2.text(j, i, cm[i, j].numpy(), ha=\"center\", va=\"center\", \n",
    "                    color=\"w\" if cm[i, j].numpy() > text_thresh else \"k\")   \n",
    "\n",
    "# Saving the plots\n",
    "fig.savefig('outputs/model_statistics.eps', format='eps')\n",
    "fig.savefig('outputs/model_statistics.png', format='png', dpi=300)"
   ]
  },
  {
   "cell_type": "markdown",
   "id": "57a2ee68",
   "metadata": {},
   "source": [
    "## Looking at the network's predictions <a name=\"predictions\"></a>\n",
    "\n",
    "The trained model can now be used to classify new data. We look at the validation dataframe, calculate the prediction, and add it as a column. We can also see some of the cases where a pion or a kaon was incorrectly predicted. As expected, they are the tracks with very similar $\\mathrm{n \\sigma_{TPC}^{\\pi}}$."
   ]
  },
  {
   "cell_type": "code",
   "execution_count": 14,
   "id": "a20775f8",
   "metadata": {},
   "outputs": [
    {
     "name": "stderr",
     "output_type": "stream",
     "text": [
      "/home/matonoliv/anaconda3/envs/LUcompute/lib/python3.10/site-packages/keras/engine/functional.py:638: UserWarning: Input dict contained keys ['particle'] which did not match any model input. They will be ignored by the model.\n",
      "  inputs = self._flatten_to_reference_inputs(inputs)\n"
     ]
    },
    {
     "name": "stdout",
     "output_type": "stream",
     "text": [
      "Identified particles:\n"
     ]
    },
    {
     "data": {
      "text/html": [
       "<div>\n",
       "<style scoped>\n",
       "    .dataframe tbody tr th:only-of-type {\n",
       "        vertical-align: middle;\n",
       "    }\n",
       "\n",
       "    .dataframe tbody tr th {\n",
       "        vertical-align: top;\n",
       "    }\n",
       "\n",
       "    .dataframe thead th {\n",
       "        text-align: right;\n",
       "    }\n",
       "</style>\n",
       "<table border=\"1\" class=\"dataframe\">\n",
       "  <thead>\n",
       "    <tr style=\"text-align: right;\">\n",
       "      <th></th>\n",
       "      <th>pt</th>\n",
       "      <th>nclusters</th>\n",
       "      <th>nsigmaTPC</th>\n",
       "      <th>nsigmaTOF</th>\n",
       "      <th>particle</th>\n",
       "      <th>prediction</th>\n",
       "    </tr>\n",
       "  </thead>\n",
       "  <tbody>\n",
       "    <tr>\n",
       "      <th>61534</th>\n",
       "      <td>4.01</td>\n",
       "      <td>156</td>\n",
       "      <td>-0.65</td>\n",
       "      <td>1.62</td>\n",
       "      <td>0</td>\n",
       "      <td>0</td>\n",
       "    </tr>\n",
       "    <tr>\n",
       "      <th>46639</th>\n",
       "      <td>4.08</td>\n",
       "      <td>155</td>\n",
       "      <td>-1.10</td>\n",
       "      <td>-0.25</td>\n",
       "      <td>0</td>\n",
       "      <td>0</td>\n",
       "    </tr>\n",
       "    <tr>\n",
       "      <th>20950</th>\n",
       "      <td>4.68</td>\n",
       "      <td>159</td>\n",
       "      <td>0.94</td>\n",
       "      <td>1.68</td>\n",
       "      <td>0</td>\n",
       "      <td>0</td>\n",
       "    </tr>\n",
       "    <tr>\n",
       "      <th>1447</th>\n",
       "      <td>4.43</td>\n",
       "      <td>158</td>\n",
       "      <td>0.72</td>\n",
       "      <td>0.64</td>\n",
       "      <td>0</td>\n",
       "      <td>0</td>\n",
       "    </tr>\n",
       "    <tr>\n",
       "      <th>37868</th>\n",
       "      <td>4.03</td>\n",
       "      <td>156</td>\n",
       "      <td>-0.82</td>\n",
       "      <td>1.33</td>\n",
       "      <td>0</td>\n",
       "      <td>0</td>\n",
       "    </tr>\n",
       "  </tbody>\n",
       "</table>\n",
       "</div>"
      ],
      "text/plain": [
       "         pt  nclusters  nsigmaTPC  nsigmaTOF  particle  prediction\n",
       "61534  4.01        156      -0.65       1.62         0           0\n",
       "46639  4.08        155      -1.10      -0.25         0           0\n",
       "20950  4.68        159       0.94       1.68         0           0\n",
       "1447   4.43        158       0.72       0.64         0           0\n",
       "37868  4.03        156      -0.82       1.33         0           0"
      ]
     },
     "metadata": {},
     "output_type": "display_data"
    },
    {
     "name": "stdout",
     "output_type": "stream",
     "text": [
      "Incorrectly identified pions:\n"
     ]
    },
    {
     "data": {
      "text/html": [
       "<div>\n",
       "<style scoped>\n",
       "    .dataframe tbody tr th:only-of-type {\n",
       "        vertical-align: middle;\n",
       "    }\n",
       "\n",
       "    .dataframe tbody tr th {\n",
       "        vertical-align: top;\n",
       "    }\n",
       "\n",
       "    .dataframe thead th {\n",
       "        text-align: right;\n",
       "    }\n",
       "</style>\n",
       "<table border=\"1\" class=\"dataframe\">\n",
       "  <thead>\n",
       "    <tr style=\"text-align: right;\">\n",
       "      <th></th>\n",
       "      <th>pt</th>\n",
       "      <th>nclusters</th>\n",
       "      <th>nsigmaTPC</th>\n",
       "      <th>nsigmaTOF</th>\n",
       "      <th>particle</th>\n",
       "      <th>prediction</th>\n",
       "    </tr>\n",
       "  </thead>\n",
       "  <tbody>\n",
       "    <tr>\n",
       "      <th>65665</th>\n",
       "      <td>4.05</td>\n",
       "      <td>108</td>\n",
       "      <td>-1.52</td>\n",
       "      <td>1.59</td>\n",
       "      <td>0</td>\n",
       "      <td>1</td>\n",
       "    </tr>\n",
       "    <tr>\n",
       "      <th>27391</th>\n",
       "      <td>4.29</td>\n",
       "      <td>159</td>\n",
       "      <td>-1.90</td>\n",
       "      <td>6.86</td>\n",
       "      <td>0</td>\n",
       "      <td>1</td>\n",
       "    </tr>\n",
       "  </tbody>\n",
       "</table>\n",
       "</div>"
      ],
      "text/plain": [
       "         pt  nclusters  nsigmaTPC  nsigmaTOF  particle  prediction\n",
       "65665  4.05        108      -1.52       1.59         0           1\n",
       "27391  4.29        159      -1.90       6.86         0           1"
      ]
     },
     "metadata": {},
     "output_type": "display_data"
    },
    {
     "name": "stdout",
     "output_type": "stream",
     "text": [
      "Incorrectly identified kaons:\n"
     ]
    },
    {
     "data": {
      "text/html": [
       "<div>\n",
       "<style scoped>\n",
       "    .dataframe tbody tr th:only-of-type {\n",
       "        vertical-align: middle;\n",
       "    }\n",
       "\n",
       "    .dataframe tbody tr th {\n",
       "        vertical-align: top;\n",
       "    }\n",
       "\n",
       "    .dataframe thead th {\n",
       "        text-align: right;\n",
       "    }\n",
       "</style>\n",
       "<table border=\"1\" class=\"dataframe\">\n",
       "  <thead>\n",
       "    <tr style=\"text-align: right;\">\n",
       "      <th></th>\n",
       "      <th>pt</th>\n",
       "      <th>nclusters</th>\n",
       "      <th>nsigmaTPC</th>\n",
       "      <th>nsigmaTOF</th>\n",
       "      <th>particle</th>\n",
       "      <th>prediction</th>\n",
       "    </tr>\n",
       "  </thead>\n",
       "  <tbody>\n",
       "    <tr>\n",
       "      <th>35668</th>\n",
       "      <td>4.02</td>\n",
       "      <td>157</td>\n",
       "      <td>-1.14</td>\n",
       "      <td>2.75</td>\n",
       "      <td>1</td>\n",
       "      <td>0</td>\n",
       "    </tr>\n",
       "    <tr>\n",
       "      <th>73371</th>\n",
       "      <td>4.92</td>\n",
       "      <td>158</td>\n",
       "      <td>-1.64</td>\n",
       "      <td>3.14</td>\n",
       "      <td>1</td>\n",
       "      <td>0</td>\n",
       "    </tr>\n",
       "    <tr>\n",
       "      <th>70899</th>\n",
       "      <td>4.11</td>\n",
       "      <td>157</td>\n",
       "      <td>-1.67</td>\n",
       "      <td>6.11</td>\n",
       "      <td>1</td>\n",
       "      <td>0</td>\n",
       "    </tr>\n",
       "    <tr>\n",
       "      <th>14047</th>\n",
       "      <td>4.73</td>\n",
       "      <td>139</td>\n",
       "      <td>-1.37</td>\n",
       "      <td>0.41</td>\n",
       "      <td>1</td>\n",
       "      <td>0</td>\n",
       "    </tr>\n",
       "    <tr>\n",
       "      <th>69913</th>\n",
       "      <td>4.40</td>\n",
       "      <td>159</td>\n",
       "      <td>-1.63</td>\n",
       "      <td>5.38</td>\n",
       "      <td>1</td>\n",
       "      <td>0</td>\n",
       "    </tr>\n",
       "  </tbody>\n",
       "</table>\n",
       "</div>"
      ],
      "text/plain": [
       "         pt  nclusters  nsigmaTPC  nsigmaTOF  particle  prediction\n",
       "35668  4.02        157      -1.14       2.75         1           0\n",
       "73371  4.92        158      -1.64       3.14         1           0\n",
       "70899  4.11        157      -1.67       6.11         1           0\n",
       "14047  4.73        139      -1.37       0.41         1           0\n",
       "69913  4.40        159      -1.63       5.38         1           0"
      ]
     },
     "metadata": {},
     "output_type": "display_data"
    }
   ],
   "source": [
    "# Function acquiring prediction for a pd.dataframe row\n",
    "def getPrediction(row):\n",
    "    entry = row.to_dict()\n",
    "    input_dict = {name: tf.convert_to_tensor([value]) for name, value in entry.items()}\n",
    "    result = model.predict(input_dict,verbose=0)\n",
    "    return result[0][0]\n",
    "\n",
    "# Predicting a subset of the data\n",
    "df_short = val_dataframe.sample(frac=0.1, random_state=1337)\n",
    "df_short['prediction'] = df_short.apply(getPrediction, axis=1)\n",
    "dfid_short = df_short.copy()\n",
    "dfid_short['prediction'] = (dfid_short['prediction'] > .5) * 1\n",
    "dfid_short = dfid_short[['pt', 'nclusters', 'nsigmaTPC', 'nsigmaTOF', 'particle', 'prediction']]\n",
    "\n",
    "print(\"Identified particles:\")\n",
    "display(dfid_short.head(5))\n",
    "\n",
    "print(\"Incorrectly identified pions:\")\n",
    "mismatched_pi = dfid_short.loc[~(dfid_short['particle'] == dfid_short['prediction'])].loc[dfid_short['particle']==0]\n",
    "display(mismatched_pi.head(5))\n",
    "\n",
    "print(\"Incorrectly identified kaons:\")\n",
    "mismatched_K = dfid_short.loc[~(dfid_short['particle'] == dfid_short['prediction'])].loc[dfid_short['particle']==1]\n",
    "display(mismatched_K.head(5))\n",
    "\n",
    "# Writing predicted data to a csv file\n",
    "dfid_short.to_csv('outputs/output_data_predicted.csv')"
   ]
  },
  {
   "cell_type": "markdown",
   "id": "732b1b9e",
   "metadata": {},
   "source": [
    "## Decision boundaries <a name=\"dboundaries\"></a>\n",
    "\n",
    "To visualise the classification of our model based on the input features, let us look at the decision boundaries. The decision boundary is a hyperplane in the feature space that separates the different classes. In other words, it is the boundary between areas of input values which defines where a data point belongs to the pion or the kaon. \n",
    "\n",
    "Since the hyperplane is multi-dimensional, we will plot its 2D-projection in the two selected features, while fixing the others to their averages. Note that since $\\mathrm{n \\sigma_{TPC}^{\\pi}}$ dominates the decision process, `nsigmaTPC` should always be used as one of the features to acquire feasible results. "
   ]
  },
  {
   "cell_type": "code",
   "execution_count": 15,
   "id": "dbb32bc2",
   "metadata": {},
   "outputs": [
    {
     "data": {
      "application/vnd.jupyter.widget-view+json": {
       "model_id": "92ac4105eccc459c83fb90c905e7d275",
       "version_major": 2,
       "version_minor": 0
      },
      "text/plain": [
       "interactive(children=(Dropdown(description='feature1', index=2, options=('pt', 'nclusters', 'nsigmaTPC', 'nsig…"
      ]
     },
     "metadata": {},
     "output_type": "display_data"
    },
    {
     "data": {
      "text/plain": [
       "<function __main__.plotDecisionBoundary(feature1='nsigmaTPC', feature2='nsigmaTOF')>"
      ]
     },
     "execution_count": 15,
     "metadata": {},
     "output_type": "execute_result"
    }
   ],
   "source": [
    "def plotDecisionBoundary(feature1='nsigmaTPC',feature2='nsigmaTOF'):\n",
    "    # Create a 2D-grid from the features\n",
    "    min1, max1 = df_short[feature1].min()-1, df_short[feature1].max()+1\n",
    "    min2, max2 = df_short[feature2].min()-1, df_short[feature2].max()+1\n",
    "    # Define the x and y resolution\n",
    "    x1grid = np.linspace(min1, max1, 10)\n",
    "    x2grid = np.linspace(min2, max2, 10)\n",
    "    # Create all of the lines and rows of the grid\n",
    "    xx, yy = np.meshgrid(x1grid, x2grid)\n",
    "    # Flatten each grid to a vector\n",
    "    r1, r2 = xx.flatten(), yy.flatten()\n",
    "    r1, r2 = r1.reshape((len(r1), 1)), r2.reshape((len(r2), 1))\n",
    "    # Horizontal stack vectors to create x1,x2 input for the model\n",
    "    grid = np.hstack((r1,r2))\n",
    "    print(\"Number of grid points to be predicted: \", len(grid))\n",
    "\n",
    "    # Fixing unused features to their averages\n",
    "    mean_pt = df_short['pt'].mean()\n",
    "    mean_nclusters = df_short['nclusters'].mean()\n",
    "    mean_nsigmaTPC = df_short['nsigmaTPC'].mean()\n",
    "    mean_nsigmaTOF = df_short['nsigmaTOF'].mean()\n",
    "\n",
    "    # Creating a dataframe from the grid\n",
    "    grid_df = pd.DataFrame(columns=df_short.columns)\n",
    "    for i,j in grid:\n",
    "        grid_df.loc[len(grid_df.index)] = [mean_pt, 0, mean_nclusters, mean_nsigmaTPC, mean_nsigmaTOF, 0]\n",
    "        grid_df.loc[grid_df.index[-1], feature1]= i\n",
    "        grid_df.loc[grid_df.index[-1], feature2]= j\n",
    "\n",
    "    # Making predictions for the grid\n",
    "    grid_df['prediction'] = grid_df.apply(getPrediction, axis=1)\n",
    "    yhat = grid_df['prediction'].to_numpy()\n",
    "    y = df_short['particle']\n",
    "    # Reshaping the predictions back into a grid\n",
    "    zz = yhat.reshape(xx.shape)\n",
    "\n",
    "    # Plotting the grid of x, y and z values as a surface\n",
    "    fig,ax = plt.subplots(figsize=(6,4))\n",
    "    ax.contour(xx, yy, zz, levels=[0.5], colors='black')\n",
    "    c = ax.contourf(xx, yy, zz, 10, levels=np.linspace(0,1,11), cmap='RdBu_r')\n",
    "    cbar = fig.colorbar(c)\n",
    "    cbar.set_label('$\\mathrm{K^\\pm}$ probability')\n",
    "    ax.scatter(df_short[df_short[\"particle\"]==0].loc[:,feature1],df_short[df_short[\"particle\"]==0].loc[:,feature2], \n",
    "               c=\"blue\",s=30,edgecolors=\"black\",label='True $\\mathrm{\\pi^{\\pm}}$')\n",
    "    ax.scatter(df_short[df_short[\"particle\"]==1].loc[:,feature1],df_short[df_short[\"particle\"]==1].loc[:,feature2], \n",
    "               c=\"orange\",s=30,edgecolors=\"black\",label='True $\\mathrm{K^{\\pm}}$')\n",
    "\n",
    "    # Adjusting styling and legend\n",
    "    axlabels = { 'pt':'$\\mathrm{p_T \\, \\, (GeV/\\it{c})}$','nclusters':'$\\mathrm{N_{clusters}}$',\n",
    "               'nsigmaTPC':'$\\mathrm{n \\sigma_{TPC}^{\\pi}}$', 'nsigmaTOF':'$\\mathrm{n \\sigma_{TOF}^{\\pi}}$'}\n",
    "    ax.set_xlabel(axlabels[feature1])\n",
    "    ax.set_ylabel(axlabels[feature2])\n",
    "    ax.tick_params(axis='both',which='both',direction='in')\n",
    "    ax.grid(True,which='major',axis='both',alpha=0.3)\n",
    "    ax.legend(loc='best')\n",
    "    \n",
    "    # Saving the plot\n",
    "    fig.savefig('outputs/model_dboundary_'+feature1+'_'+feature2+'.eps', format='eps')\n",
    "    fig.savefig('outputs/model_dboundary_'+feature1+'_'+feature2+'.png', format='png', dpi=300)\n",
    "\n",
    "# Using interact to select two features\n",
    "features = ['pt','nclusters','nsigmaTPC','nsigmaTOF']\n",
    "interact(plotDecisionBoundary,feature1=features,feature2=features)"
   ]
  },
  {
   "cell_type": "markdown",
   "id": "b5a27231",
   "metadata": {},
   "source": [
    "## Conclusions <a name=\"conclusions\"></a>\n",
    "\n",
    "In this Jupyter Notebook, we gave a concise introduction to what data from HEP experiments can look like and how ANNs can be used to identify particles. The built and trained ANN is very accurate in distinguishing pions and kaons. In reality, since we typically have to analyse billions of tracks instead of just a couple of thousands, computational speed is vital. Thus, simpler methods are usually used, e.g. simple linear cuts, decision trees, or other statistical procedures. That being said, ANNs are more fit to solve more complex problems with a large number of interdependent and non-linear features -- such as topological reconstruction of heavy-flavour particles, where data sizes are smaller and separation from background is key to extracting interesting physics results. This Notebook serves mostly for educational and demonstrational purposes. It can also serve as a starting point to explore the ANNs potential to solve more challenging and relevant cases."
   ]
  },
  {
   "cell_type": "markdown",
   "id": "05070266",
   "metadata": {},
   "source": [
    "## References <a name=\"references\"></a>\n",
    "\n",
    "[1] Mortier, Steven. (2020). Exploring top-quark and Z boson coupling in top pair production in association with a Z boson. 10.13140/RG.2.2.14191.76962. \n",
    "\n",
    "[2] Meng, Zhenzhu & Hu, Yating & Ancey, Christophe. (2020). Using a Data Driven Approach to Predict Waves Generated by Gravity Driven Mass Flows. Water. 12. 10.3390/w12020600. "
   ]
  }
 ],
 "metadata": {
  "kernelspec": {
   "display_name": "Python 3 (ipykernel)",
   "language": "python",
   "name": "python3"
  },
  "language_info": {
   "codemirror_mode": {
    "name": "ipython",
    "version": 3
   },
   "file_extension": ".py",
   "mimetype": "text/x-python",
   "name": "python",
   "nbconvert_exporter": "python",
   "pygments_lexer": "ipython3",
   "version": "3.10.8"
  }
 },
 "nbformat": 4,
 "nbformat_minor": 5
}
